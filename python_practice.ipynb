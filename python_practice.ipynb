{
  "nbformat": 4,
  "nbformat_minor": 0,
  "metadata": {
    "colab": {
      "provenance": []
    },
    "kernelspec": {
      "name": "python3",
      "display_name": "Python 3"
    },
    "language_info": {
      "name": "python"
    }
  },
  "cells": [
    {
      "cell_type": "code",
      "source": [
        "import math\n",
        "\n",
        "#Lista de exercícios PRÁTICOS 1\n",
        "\n",
        "#Faça um programa que receba a idade do usuário e diga se ele é maior ou menor de idade.\n",
        "\"\"\"\n",
        "input_user = int(input(\"Qual sua idade? \"))\n",
        "if input_user >= 18:\n",
        "  print(\"Maior de idade\")\n",
        "else:\n",
        "    print(\"Menor de idade\")\n",
        "\"\"\"\n",
        "#Faça um programa que receba duas notas digitadas pelo usuário. Se a nota for maior ou igual a seis, escreva aprovado, senão escreva reprovado.\n",
        "\"\"\"\n",
        "input_user2 = int(input(\"Digite uma nota: \"))\n",
        "input_user3 = int(input(\"Digite outra nota: \"))\n",
        "\n",
        "result_user = input_user2 + input_user3\n",
        "\n",
        "if result_user >= 6:\n",
        "  print(\"Aprovado\")\n",
        "\n",
        "else:\n",
        "  print(\"Reprovado\")\n",
        "\"\"\"\n",
        "#Escreva um programa que resolva uma equação de segundo grau.\n",
        "\"\"\"\n",
        "math_expression = \"x**2 +2x +4 =0\"\n",
        "list_math = math_expression.split()\n",
        "\n",
        "a = list_math[0]\n",
        "b = list_math[1]\n",
        "c = int(list_math[2])\n",
        "\"\"\"\n",
        "\n",
        "\n",
        "#Escreva um programa que ordene uma lista numérica com três elementos.\n",
        "\n",
        "\"\"\"lista = [2,1,4,3]\n",
        "print(sorted(lista))\n",
        "\"\"\"\n",
        "#Escreva um programa que receba dois números e um sinal, e faça a operação matemática definida pelo sinal.\n",
        "\n",
        "input_user = int(input(\"Insira um número: \"))\n",
        "input_user2 = input(\"Insira um sinal: \")\n",
        "input_user3 = int(input(\"Insira um número: \"))\n",
        "\n",
        "if input_user2 == \"+\":\n",
        "  op = input_user + input_user3\n",
        "elif input_user2 == \"-\":\n",
        "    op = input_user + input_user3\n",
        "\n",
        "elif input_user2 == \"*\":\n",
        "  op = input_user * input_user3\n",
        "\n",
        "else:\n",
        "  op = input_user / input_user3\n",
        "\n",
        "print (op)"
      ],
      "metadata": {
        "colab": {
          "base_uri": "https://localhost:8080/"
        },
        "id": "pgRU43Oqkr3N",
        "outputId": "33f52236-6cf8-4dac-949b-888e76ad0b85"
      },
      "execution_count": 10,
      "outputs": [
        {
          "output_type": "stream",
          "name": "stdout",
          "text": [
            "Insira um número: 1\n",
            "Insira um sinal: +\n",
            "Insira um número: 1\n",
            "2\n"
          ]
        }
      ]
    },
    {
      "cell_type": "code",
      "source": [],
      "metadata": {
        "id": "rV-nFH7WlCu5"
      },
      "execution_count": null,
      "outputs": []
    }
  ]
}